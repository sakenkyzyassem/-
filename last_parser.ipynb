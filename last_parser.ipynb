{
 "cells": [
  {
   "cell_type": "code",
   "execution_count": 1,
   "metadata": {},
   "outputs": [],
   "source": [
    "import requests"
   ]
  },
  {
   "cell_type": "code",
   "execution_count": 2,
   "metadata": {},
   "outputs": [],
   "source": [
    "import bs4"
   ]
  },
  {
   "cell_type": "code",
   "execution_count": 104,
   "metadata": {},
   "outputs": [],
   "source": [
    "res = requests.get('https://bbc.com')"
   ]
  },
  {
   "cell_type": "code",
   "execution_count": null,
   "metadata": {},
   "outputs": [],
   "source": []
  },
  {
   "cell_type": "code",
   "execution_count": 168,
   "metadata": {},
   "outputs": [],
   "source": [
    "import re\n",
    "import sys\n",
    "def cleanhtml(raw_html):\n",
    "  cleanr = re.compile('<.*?>')\n",
    "  cleantext = re.sub(cleanr, '', raw_html)\n",
    "  return cleantext"
   ]
  },
  {
   "cell_type": "code",
   "execution_count": 185,
   "metadata": {},
   "outputs": [],
   "source": [
    "soup = bs4.BeautifulSoup(res.text, 'lxml')\n",
    "list1=[]\n",
    "list2=[]"
   ]
  },
  {
   "cell_type": "code",
   "execution_count": 217,
   "metadata": {},
   "outputs": [
    {
     "name": "stdout",
     "output_type": "stream",
     "text": [
      "https://www.bbc.com/news/uk-england-manchester-48871096\n",
      "https://www.bbc.com/news/uk-england-manchester-48871096\n"
     ]
    }
   ],
   "source": [
    "for link in soup.find_all('a', href=True):\n",
    "    if re.match(r'^https://', link['href']):\n",
    "        if \"uk-england\" in str(link['href']):\n",
    "            print(link['href'])\n",
    "            url = requests.get('https://bbc.com')\n",
    "            without_html = bs4.BeautifulSoup(res.text, 'lxml')\n",
    "            list1.append(link['href'])\n",
    "            list2.append(cleanhtml(str(without_html)))"
   ]
  },
  {
   "cell_type": "code",
   "execution_count": 224,
   "metadata": {},
   "outputs": [
    {
     "data": {
      "text/html": [
       "<div>\n",
       "<style scoped>\n",
       "    .dataframe tbody tr th:only-of-type {\n",
       "        vertical-align: middle;\n",
       "    }\n",
       "\n",
       "    .dataframe tbody tr th {\n",
       "        vertical-align: top;\n",
       "    }\n",
       "\n",
       "    .dataframe thead th {\n",
       "        text-align: right;\n",
       "    }\n",
       "</style>\n",
       "<table border=\"1\" class=\"dataframe\">\n",
       "  <thead>\n",
       "    <tr style=\"text-align: right;\">\n",
       "      <th></th>\n",
       "      <th>0</th>\n",
       "      <th>url</th>\n",
       "    </tr>\n",
       "  </thead>\n",
       "  <tbody>\n",
       "    <tr>\n",
       "      <th>0</th>\n",
       "      <td>https://www.bbc.co.uk/news</td>\n",
       "      <td>\\n\\n\\n\\n&lt;meta content=\"Breaking news, sport, T...</td>\n",
       "    </tr>\n",
       "    <tr>\n",
       "      <th>1</th>\n",
       "      <td>https://www.bbc.co.uk/news/localnews</td>\n",
       "      <td>\\n\\n\\n\\n&lt;meta content=\"Breaking news, sport, T...</td>\n",
       "    </tr>\n",
       "    <tr>\n",
       "      <th>2</th>\n",
       "      <td>https://www.bbc.com/news/business-11428889</td>\n",
       "      <td>\\n\\n\\n\\n&lt;meta content=\"Breaking news, sport, T...</td>\n",
       "    </tr>\n",
       "    <tr>\n",
       "      <th>3</th>\n",
       "      <td>https://www.bbc.com/news/business-48842750</td>\n",
       "      <td>\\n\\n\\n\\n&lt;meta content=\"Breaking news, sport, T...</td>\n",
       "    </tr>\n",
       "    <tr>\n",
       "      <th>4</th>\n",
       "      <td>https://www.bbc.com/news/business-48842750</td>\n",
       "      <td>\\n\\n\\n\\n&lt;meta content=\"Breaking news, sport, T...</td>\n",
       "    </tr>\n",
       "  </tbody>\n",
       "</table>\n",
       "</div>"
      ],
      "text/plain": [
       "                                            0  \\\n",
       "0                  https://www.bbc.co.uk/news   \n",
       "1        https://www.bbc.co.uk/news/localnews   \n",
       "2  https://www.bbc.com/news/business-11428889   \n",
       "3  https://www.bbc.com/news/business-48842750   \n",
       "4  https://www.bbc.com/news/business-48842750   \n",
       "\n",
       "                                                 url  \n",
       "0  \\n\\n\\n\\n<meta content=\"Breaking news, sport, T...  \n",
       "1  \\n\\n\\n\\n<meta content=\"Breaking news, sport, T...  \n",
       "2  \\n\\n\\n\\n<meta content=\"Breaking news, sport, T...  \n",
       "3  \\n\\n\\n\\n<meta content=\"Breaking news, sport, T...  \n",
       "4  \\n\\n\\n\\n<meta content=\"Breaking news, sport, T...  "
      ]
     },
     "execution_count": 224,
     "metadata": {},
     "output_type": "execute_result"
    }
   ],
   "source": [
    "data = pd.DataFrame(list1)\n",
    "data2 = pd.DataFrame(list2)\n",
    "buena = pd.DataFrame()\n",
    "buena = buena.append([data], ignore_index = True)\n",
    "buena['url'] = data2\n",
    "buena.head()"
   ]
  },
  {
   "cell_type": "raw",
   "metadata": {},
   "source": [
    "new"
   ]
  },
  {
   "cell_type": "code",
   "execution_count": 206,
   "metadata": {},
   "outputs": [],
   "source": []
  },
  {
   "cell_type": "code",
   "execution_count": 210,
   "metadata": {},
   "outputs": [],
   "source": []
  },
  {
   "cell_type": "code",
   "execution_count": 211,
   "metadata": {},
   "outputs": [],
   "source": []
  },
  {
   "cell_type": "code",
   "execution_count": null,
   "metadata": {},
   "outputs": [],
   "source": []
  },
  {
   "cell_type": "code",
   "execution_count": null,
   "metadata": {},
   "outputs": [],
   "source": []
  }
 ],
 "metadata": {
  "kernelspec": {
   "display_name": "Python 3",
   "language": "python",
   "name": "python3"
  },
  "language_info": {
   "codemirror_mode": {
    "name": "ipython",
    "version": 3
   },
   "file_extension": ".py",
   "mimetype": "text/x-python",
   "name": "python",
   "nbconvert_exporter": "python",
   "pygments_lexer": "ipython3",
   "version": "3.7.3"
  }
 },
 "nbformat": 4,
 "nbformat_minor": 2
}
